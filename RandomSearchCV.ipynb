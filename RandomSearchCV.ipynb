{
 "cells": [
  {
   "cell_type": "markdown",
   "metadata": {},
   "source": [
    "## Implementing RandomSearchCV with Scikit-Learn"
   ]
  },
  {
   "cell_type": "code",
   "execution_count": 2,
   "metadata": {},
   "outputs": [],
   "source": [
    "from sklearn.datasets import make_classification\n",
    "from sklearn.model_selection import train_test_split\n",
    "from sklearn.preprocessing import StandardScaler\n",
    "import numpy as np\n",
    "from sklearn.metrics.pairwise import euclidean_distances\n",
    "import random\n",
    "\n",
    "x,y = make_classification(n_samples=4400, n_features=2, n_informative=2, n_redundant= 0, n_clusters_per_class=1, random_state=60)\n",
    "X_train, X_test, y_train, y_test = train_test_split(x,y,stratify=y,random_state=42)"
   ]
  },
  {
   "cell_type": "code",
   "execution_count": 3,
   "metadata": {},
   "outputs": [],
   "source": [
    "def Split_in_three_groups(x_train):\n",
    "    group=np.split((range(0, len(x_train))), [int(.33*len(x_train)), int(.67*len(x_train))])\n",
    "    return group\n",
    "def RandomSearchCV(x_train,y_train,classifier, params, folds):\n",
    "    trainscores = []\n",
    "    testscores  = []    \n",
    "    for k in params:\n",
    "        trainscores_folds = []\n",
    "        testscores_folds  = []\n",
    "        for j in range(0, folds):\n",
    "            group_1=list(Split_in_three_groups(x_train)[0])\n",
    "            group_2=list(Split_in_three_groups(x_train)[1])\n",
    "            group_3=list(Split_in_three_groups(x_train)[2])\n",
    "            \n",
    "            if j==0:\n",
    "                \n",
    "                group_1.extend(group_2)\n",
    "                Training_1=group_1\n",
    "                Test_1=group_3\n",
    "                \n",
    "                X_train = x_train[Training_1]\n",
    "                Y_train = y_train[Training_1]\n",
    "                X_test  = x_train[Test_1]\n",
    "                Y_test  = y_train[Test_1]\n",
    "                classifier.n_neighbors = k\n",
    "                classifier.fit(X_train,Y_train)\n",
    "                Y_predicted = classifier.predict(X_test)\n",
    "                \n",
    "               \n",
    "                testscores_folds.append(accuracy_score(Y_test, Y_predicted))\n",
    "                Y_predicted = classifier.predict(X_train)\n",
    "                trainscores_folds.append(accuracy_score(Y_train, Y_predicted))\n",
    "                \n",
    "                \n",
    "            elif j==1:\n",
    "                group_1.extend(group_3)\n",
    "                Training_1=group_1\n",
    "                Test_1=group_2\n",
    "                \n",
    "                X_train = x_train[Training_1]\n",
    "                Y_train = y_train[Training_1]\n",
    "                X_test  = x_train[Test_1]\n",
    "                Y_test  = y_train[Test_1]\n",
    "                classifier.n_neighbors = k\n",
    "                classifier.fit(X_train,Y_train)\n",
    "                Y_predicted = classifier.predict(X_test)\n",
    "                testscores_folds.append(accuracy_score(Y_test, Y_predicted))\n",
    "                Y_predicted = classifier.predict(X_train)\n",
    "                trainscores_folds.append(accuracy_score(Y_train, Y_predicted))\n",
    "                \n",
    "            elif j==2:\n",
    "                group_2.extend(group_3)\n",
    "                Training_1=group_2\n",
    "                Test_1=group_1\n",
    "                \n",
    "                X_train = x_train[Training_1]\n",
    "                Y_train = y_train[Training_1]\n",
    "                X_test  = x_train[Test_1]\n",
    "                Y_test  = y_train[Test_1]\n",
    "                classifier.n_neighbors = k\n",
    "                classifier.fit(X_train,Y_train)\n",
    "                Y_predicted = classifier.predict(X_test)\n",
    "                testscores_folds.append(accuracy_score(Y_test, Y_predicted))\n",
    "                Y_predicted = classifier.predict(X_train)\n",
    "                trainscores_folds.append(accuracy_score(Y_train, Y_predicted))\n",
    "                \n",
    "        trainscores.append(np.mean(np.array(trainscores_folds)))\n",
    "        testscores.append(np.mean(np.array(testscores_folds)))\n",
    "    return trainscores,testscores\n",
    "    \n"
   ]
  },
  {
   "cell_type": "code",
   "execution_count": 5,
   "metadata": {},
   "outputs": [
    {
     "name": "stdout",
     "output_type": "stream",
     "text": [
      "[0.9339642467186565, 0.9165307530300746, 0.9150025812169638, 0.913645729113843, 0.9122728871711233, 0.9095637514904814, 0.9104614667708292, 0.9104614667708292, 0.9090840563025094, 0.9072657831138157]\n",
      "[0.8973063973063974, 0.9060840130358847, 0.9090639010425107, 0.9078485388645817, 0.9084697239777455, 0.906714200831848, 0.9060840130358847, 0.9060840130358847, 0.9082176488593602, 0.9067322061974469]\n"
     ]
    }
   ],
   "source": [
    "from sklearn.metrics import accuracy_score\n",
    "from sklearn.neighbors import KNeighborsClassifier\n",
    "#import matplotlib.pyplot as plt\n",
    "import random\n",
    "#import warnings\n",
    "#warnings.filterwarnings(\"ignore\")\n",
    "\n",
    "\n",
    "neigh = KNeighborsClassifier()\n",
    "\n",
    "numbers=[]\n",
    "for i in range(10): \n",
    "    numbers.append(random.randint(0, 50))\n",
    "    c=sorted(numbers)\n",
    "    params=tuple(c)\n",
    "\n",
    "folds = 3\n",
    "\n",
    "\n",
    "trainscores,testscores = RandomSearchCV(X_train, y_train, neigh, params, folds)\n",
    "\n",
    "print(trainscores)\n",
    "print(testscores)\n",
    "    \n",
    "\n"
   ]
  },
  {
   "cell_type": "code",
   "execution_count": 6,
   "metadata": {},
   "outputs": [
    {
     "data": {
      "text/plain": [
       "<Figure size 640x480 with 1 Axes>"
      ]
     },
     "metadata": {},
     "output_type": "display_data"
    }
   ],
   "source": [
    "import matplotlib.pyplot as plt\n",
    "plt.plot(params,trainscores, label='train cruve')\n",
    "plt.plot(params,testscores, label='test cruve')\n",
    "plt.title('Hyper-parameter VS accuracy plot')\n",
    "plt.legend()\n",
    "plt.show()"
   ]
  },
  {
   "cell_type": "code",
   "execution_count": 7,
   "metadata": {},
   "outputs": [],
   "source": [
    "def plot_decision_boundary(X1, X2, y, clf):\n",
    "        # Create color maps\n",
    "    cmap_light = ListedColormap(['#FFAAAA', '#AAFFAA', '#AAAAFF'])\n",
    "    cmap_bold = ListedColormap(['#FF0000', '#00FF00', '#0000FF'])\n",
    "\n",
    "    x_min, x_max = X1.min() - 1, X1.max() + 1\n",
    "    y_min, y_max = X2.min() - 1, X2.max() + 1\n",
    "    \n",
    "    xx, yy = np.meshgrid(np.arange(x_min, x_max, 0.02), np.arange(y_min, y_max, 0.02))\n",
    "    Z = clf.predict(np.c_[xx.ravel(), yy.ravel()])\n",
    "    Z = Z.reshape(xx.shape)\n",
    "\n",
    "    plt.figure()\n",
    "    plt.pcolormesh(xx, yy, Z, cmap=cmap_light)\n",
    "    # Plot also the training points\n",
    "    plt.scatter(X1, X2, c=y, cmap=cmap_bold)\n",
    "    \n",
    "    plt.xlim(xx.min(), xx.max())\n",
    "    plt.ylim(yy.min(), yy.max())\n",
    "    plt.title(\"2-Class classification (k = %i)\" % (clf.n_neighbors))\n",
    "    plt.show()"
   ]
  },
  {
   "cell_type": "code",
   "execution_count": 13,
   "metadata": {},
   "outputs": [
    {
     "data": {
      "image/png": "[encoded data removed]",
      "text/plain": [
       "<Figure size 432x288 with 1 Axes>"
      ]
     },
     "metadata": {
      "needs_background": "light"
     },
     "output_type": "display_data"
    }
   ],
   "source": [
    "from matplotlib.colors import ListedColormap\n",
    "neigh = KNeighborsClassifier(n_neighbors = 40)\n",
    "neigh.fit(X_train, y_train)\n",
    "plot_decision_boundary(X_train[:, 0], X_train[:, 1], y_train, neigh)"
   ]
  },
  {
   "cell_type": "code",
   "execution_count": null,
   "metadata": {},
   "outputs": [],
   "source": []
  }
 ],
 "metadata": {
  "kernelspec": {
   "display_name": "Python 3",
   "language": "python",
   "name": "python3"
  },
  "language_info": {
   "codemirror_mode": {
    "name": "ipython",
    "version": 3
   },
   "file_extension": ".py",
   "mimetype": "text/x-python",
   "name": "python",
   "nbconvert_exporter": "python",
   "pygments_lexer": "ipython3",
   "version": "3.7.0"
  }
 },
 "nbformat": 4,
 "nbformat_minor": 2
}
