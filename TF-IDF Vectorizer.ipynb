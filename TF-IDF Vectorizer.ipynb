{
 "cells": [
  {
   "cell_type": "markdown",
   "metadata": {},
   "source": [
    "## Implementing TF-IDF without Scikit-Learn"
   ]
  },
  {
   "cell_type": "code",
   "execution_count": 1,
   "metadata": {},
   "outputs": [],
   "source": [
    "from collections import Counter\n",
    "import math\n",
    "from scipy.sparse import csr_matrix\n",
    "from sklearn.preprocessing import normalize "
   ]
  },
  {
   "cell_type": "code",
   "execution_count": 2,
   "metadata": {},
   "outputs": [
    {
     "name": "stdout",
     "output_type": "stream",
     "text": [
      "{'and': 0, 'document': 1, 'first': 2, 'is': 3, 'one': 4, 'second': 5, 'the': 6, 'third': 7, 'this': 8}\n"
     ]
    }
   ],
   "source": [
    "corpus = [\n",
    "     'this is the first document',\n",
    "     'this document is the second document',\n",
    "     'and this is the third one',\n",
    "     'is this the first document',\n",
    "    \n",
    "]\n",
    "unique_words = set() # at first we will initialize an empty set\n",
    "if isinstance(corpus, (list,)):\n",
    "    for row in corpus:\n",
    "        for word in row.split(\" \"):\n",
    "            if len(word) < 2:\n",
    "                continue\n",
    "            unique_words.add(word)    \n",
    "    unique_words = sorted(list(unique_words))\n",
    "    vocab = {j:i for i,j in enumerate(unique_words)}        # for each review in the dataset\n",
    "    print(vocab)        # for each word in the review. #split method converts a string into list of words\n",
    "else:\n",
    "    print(\"you need to pass list of sentance\") "
   ]
  },
  {
   "cell_type": "code",
   "execution_count": 3,
   "metadata": {},
   "outputs": [
    {
     "name": "stdout",
     "output_type": "stream",
     "text": [
      "this 1.0\n",
      "is 1.0\n",
      "the 1.0\n",
      "first 1.5108256237659907\n",
      "document 1.2231435513142097\n",
      "second 1.916290731874155\n",
      "and 1.916290731874155\n",
      "third 1.916290731874155\n",
      "one 1.916290731874155\n",
      "[1.0, 1.0, 1.0, 1.5108256237659907, 1.2231435513142097, 1.916290731874155, 1.916290731874155, 1.916290731874155, 1.916290731874155]\n",
      "  (0, 1)\t0.674199862463242\n",
      "  (0, 2)\t0.5393598899705936\n",
      "  (0, 3)\t0.2696799449852968\n",
      "  (0, 6)\t0.40451991747794525\n",
      "  (0, 8)\t0.1348399724926484\n",
      "  (1, 1)\t0.40451991747794525\n",
      "  (1, 3)\t0.4494665749754947\n",
      "  (1, 5)\t0.5393598899705937\n",
      "  (1, 6)\t0.49441323247304425\n",
      "  (1, 8)\t0.3146266024828463\n",
      "  (2, 0)\t0.34034212517093304\n",
      "  (2, 3)\t0.39270245212030735\n",
      "  (2, 4)\t0.4712429425443689\n",
      "  (2, 6)\t0.4188826155949945\n",
      "  (2, 7)\t0.44506277906968167\n",
      "  (2, 8)\t0.3665222886456202\n",
      "  (3, 1)\t0.4953774046180699\n",
      "  (3, 2)\t0.4706085343871664\n",
      "  (3, 3)\t0.39630192369445594\n",
      "  (3, 6)\t0.4458396641562629\n",
      "  (3, 8)\t0.4210707939253594\n"
     ]
    }
   ],
   "source": [
    "corpus = [\n",
    "     'this is the first document',\n",
    "     'this document is the second document',\n",
    "     'and this is the third one',\n",
    "     'is this the first document',\n",
    "    \n",
    "]\n",
    "\n",
    "rows = []\n",
    "columns = []\n",
    "values = []\n",
    "counts = Counter()\n",
    "a=[]\n",
    "b=[]\n",
    "v=[]\n",
    "def a_features(document):\n",
    "    terms = tuple(document.split())\n",
    "    return terms\n",
    "Df = Counter()\n",
    "for d in corpus:\n",
    "    features = a_features(d)\n",
    "    for t in Counter(features):\n",
    "        Df[t]=Df[t]+1\n",
    "        \n",
    "p=dict(Df)\n",
    "for word,IDFreq in p.items():\n",
    "    j=(1+len(corpus))/(1+IDFreq)\n",
    "    log_result=math.log(j)\n",
    "    k=1+log_result\n",
    "    print(word,k)\n",
    "    v.append(k)\n",
    "print(v)    \n",
    "    \n",
    "    #print(word,k)  ###Printing IDF\n",
    "    \n",
    "\n",
    "tfidf_sentences = []  \n",
    "\n",
    "\n",
    "for idx, row in enumerate(corpus):\n",
    "    word_freq = dict(Counter(row.split()))\n",
    "    for word,freq in word_freq.items():\n",
    "        \n",
    "        tf=freq/len(row.split())\n",
    "        b.append(tf)\n",
    "        for tf_sentence in b:\n",
    "            tf_idf_score =(tf_sentence*k)\n",
    "            col_index = vocab.get(word, -1)\n",
    "            if col_index !=-1:\n",
    "                rows.append(idx)\n",
    "                columns.append(col_index)\n",
    "                tfidf_sentences.append(tf_idf_score)\n",
    "\n",
    "y=csr_matrix((tfidf_sentences, (rows,columns)), shape=(len(corpus),len(vocab)))\n",
    "\n",
    "\n",
    "m=normalize(y, norm='l2', axis=1, copy=True, return_norm=False)\n",
    "print(m)\n",
    "\n",
    "\n",
    "\n",
    "      \n",
    "       \n",
    "    \n"
   ]
  },
  {
   "cell_type": "code",
   "execution_count": null,
   "metadata": {},
   "outputs": [],
   "source": []
  }
 ],
 "metadata": {
  "kernelspec": {
   "display_name": "Python 3",
   "language": "python",
   "name": "python3"
  },
  "language_info": {
   "codemirror_mode": {
    "name": "ipython",
    "version": 3
   },
   "file_extension": ".py",
   "mimetype": "text/x-python",
   "name": "python",
   "nbconvert_exporter": "python",
   "pygments_lexer": "ipython3",
   "version": "3.7.3"
  }
 },
 "nbformat": 4,
 "nbformat_minor": 2
}
